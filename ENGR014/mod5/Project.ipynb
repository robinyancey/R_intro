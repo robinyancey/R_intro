{
  "cells": [
    {
      "cell_type": "markdown",
      "metadata": {
        "id": "YuV6X4Z8wtG4"
      },
      "source": [
        "# COVID-19 Trends in Prison Facilities Analysis Project"
      ]
    },
    {
      "cell_type": "markdown",
      "metadata": {
        "id": "GoSlAgT5wtHC"
      },
      "source": [
        "# Instructions:\n",
        "Please use the COVID-19 Trends by County (Prison) Dataset and the plot type in the comments to answer the questions. Examples of how to read in this data and create all these types of plots were in the lecture notes. If youre still having trouble let me know, please! :)\n",
        "\n",
        "### Dataset Overview\n",
        "This data set contains information collected in March 2021 on the number of COVID-19 cases in\n",
        "various prison facilities in the US. It also has the number of cases and deaths for inmates and\n",
        "officers as well as the total number of inmates in each facility.\n",
        "\n",
        "\n",
        "\n",
        "\n",
        "Step 1: Calculate a proxy for the number of cases per member in the facility\n",
        " * to do that, look at (Number of Cases in Inmates + Number of Cases in\n",
        " Guards) / (Number of Inmates) to get the latest inmate population.\n",
        " * Drop all the rows that were missing this value.\n"
      ]
    },
    {
      "cell_type": "code",
      "execution_count": null,
      "metadata": {
        "colab": {
          "base_uri": "https://localhost:8080/",
          "height": 507
        },
        "id": "2Qql30YTwtHG",
        "outputId": "def105aa-6147-4a3b-c388-5d4648cda15f"
      },
      "outputs": [
        {
          "output_type": "display_data",
          "data": {
            "text/html": [
              "<table class=\"dataframe\">\n",
              "<caption>A tibble: 6 × 17</caption>\n",
              "<thead>\n",
              "\t<tr><th scope=col>nyt_id</th><th scope=col>facility_name</th><th scope=col>facility_type</th><th scope=col>facility_city</th><th scope=col>facility_county</th><th scope=col>facility_county_fips</th><th scope=col>facility_state</th><th scope=col>facility_lng</th><th scope=col>facility_lat</th><th scope=col>latest_inmate_population</th><th scope=col>max_inmate_population_2020</th><th scope=col>total_inmate_cases</th><th scope=col>total_inmate_deaths</th><th scope=col>total_officer_cases</th><th scope=col>total_officer_deaths</th><th scope=col>note</th><th scope=col>normalized_cases</th></tr>\n",
              "\t<tr><th scope=col>&lt;chr&gt;</th><th scope=col>&lt;chr&gt;</th><th scope=col>&lt;chr&gt;</th><th scope=col>&lt;chr&gt;</th><th scope=col>&lt;chr&gt;</th><th scope=col>&lt;chr&gt;</th><th scope=col>&lt;chr&gt;</th><th scope=col>&lt;dbl&gt;</th><th scope=col>&lt;dbl&gt;</th><th scope=col>&lt;dbl&gt;</th><th scope=col>&lt;dbl&gt;</th><th scope=col>&lt;dbl&gt;</th><th scope=col>&lt;dbl&gt;</th><th scope=col>&lt;dbl&gt;</th><th scope=col>&lt;dbl&gt;</th><th scope=col>&lt;chr&gt;</th><th scope=col>&lt;dbl&gt;</th></tr>\n",
              "</thead>\n",
              "<tbody>\n",
              "\t<tr><td>F3EFE858</td><td>Alex City Work Release prison                                        </td><td>Low-security work release  </td><td>Alex City </td><td>Coosa    </td><td>01037</td><td>Alabama</td><td>-86.00901</td><td>32.90451</td><td> 188</td><td>  NA</td><td> 77</td><td>0</td><td>17</td><td>0</td><td>NA</td><td>0.50000000</td></tr>\n",
              "\t<tr><td>5B910220</td><td>Alabama Therapeutic Education Facility prison                        </td><td>State rehabilitation center</td><td>Columbiana</td><td>Shelby   </td><td>01117</td><td>Alabama</td><td>-86.62407</td><td>33.18075</td><td> 272</td><td>  NA</td><td> 11</td><td>1</td><td> 2</td><td>0</td><td>NA</td><td>0.04779412</td></tr>\n",
              "\t<tr><td>02FB1675</td><td>Bibb Correctional Facility                                           </td><td>State prison               </td><td>Brent     </td><td>Bibb     </td><td>01007</td><td>Alabama</td><td>-87.16278</td><td>32.92075</td><td>1725</td><td>1825</td><td>164</td><td>3</td><td>61</td><td>0</td><td>NA</td><td>0.13043478</td></tr>\n",
              "\t<tr><td>6378F6C4</td><td>Birmingham Women's Community Based Facility and Community Work Center</td><td>State prison               </td><td>Birmingham</td><td>Jefferson</td><td>01073</td><td>Alabama</td><td>-86.80834</td><td>33.53110</td><td> 192</td><td>  NA</td><td> 17</td><td>0</td><td>28</td><td>0</td><td>NA</td><td>0.23437500</td></tr>\n",
              "\t<tr><td>EAABF900</td><td>Bullock Correctional Facility                                        </td><td>State prison               </td><td>Bessemer  </td><td>Bullock  </td><td>01011</td><td>Alabama</td><td>-85.67393</td><td>32.14714</td><td>1477</td><td>1577</td><td>162</td><td>5</td><td>80</td><td>1</td><td>NA</td><td>0.16384563</td></tr>\n",
              "\t<tr><td>D19A2461</td><td>Camden prison                                                        </td><td>State prison               </td><td>Camden    </td><td>Wilcox   </td><td>01131</td><td>Alabama</td><td>-87.28786</td><td>31.98781</td><td>  49</td><td>  NA</td><td>  5</td><td>0</td><td> 3</td><td>0</td><td>NA</td><td>0.16326531</td></tr>\n",
              "</tbody>\n",
              "</table>\n"
            ],
            "text/markdown": "\nA tibble: 6 × 17\n\n| nyt_id &lt;chr&gt; | facility_name &lt;chr&gt; | facility_type &lt;chr&gt; | facility_city &lt;chr&gt; | facility_county &lt;chr&gt; | facility_county_fips &lt;chr&gt; | facility_state &lt;chr&gt; | facility_lng &lt;dbl&gt; | facility_lat &lt;dbl&gt; | latest_inmate_population &lt;dbl&gt; | max_inmate_population_2020 &lt;dbl&gt; | total_inmate_cases &lt;dbl&gt; | total_inmate_deaths &lt;dbl&gt; | total_officer_cases &lt;dbl&gt; | total_officer_deaths &lt;dbl&gt; | note &lt;chr&gt; | normalized_cases &lt;dbl&gt; |\n|---|---|---|---|---|---|---|---|---|---|---|---|---|---|---|---|---|\n| F3EFE858 | Alex City Work Release prison                                         | Low-security work release   | Alex City  | Coosa     | 01037 | Alabama | -86.00901 | 32.90451 |  188 |   NA |  77 | 0 | 17 | 0 | NA | 0.50000000 |\n| 5B910220 | Alabama Therapeutic Education Facility prison                         | State rehabilitation center | Columbiana | Shelby    | 01117 | Alabama | -86.62407 | 33.18075 |  272 |   NA |  11 | 1 |  2 | 0 | NA | 0.04779412 |\n| 02FB1675 | Bibb Correctional Facility                                            | State prison                | Brent      | Bibb      | 01007 | Alabama | -87.16278 | 32.92075 | 1725 | 1825 | 164 | 3 | 61 | 0 | NA | 0.13043478 |\n| 6378F6C4 | Birmingham Women's Community Based Facility and Community Work Center | State prison                | Birmingham | Jefferson | 01073 | Alabama | -86.80834 | 33.53110 |  192 |   NA |  17 | 0 | 28 | 0 | NA | 0.23437500 |\n| EAABF900 | Bullock Correctional Facility                                         | State prison                | Bessemer   | Bullock   | 01011 | Alabama | -85.67393 | 32.14714 | 1477 | 1577 | 162 | 5 | 80 | 1 | NA | 0.16384563 |\n| D19A2461 | Camden prison                                                         | State prison                | Camden     | Wilcox    | 01131 | Alabama | -87.28786 | 31.98781 |   49 |   NA |   5 | 0 |  3 | 0 | NA | 0.16326531 |\n\n",
            "text/latex": "A tibble: 6 × 17\n\\begin{tabular}{lllllllllllllllll}\n nyt\\_id & facility\\_name & facility\\_type & facility\\_city & facility\\_county & facility\\_county\\_fips & facility\\_state & facility\\_lng & facility\\_lat & latest\\_inmate\\_population & max\\_inmate\\_population\\_2020 & total\\_inmate\\_cases & total\\_inmate\\_deaths & total\\_officer\\_cases & total\\_officer\\_deaths & note & normalized\\_cases\\\\\n <chr> & <chr> & <chr> & <chr> & <chr> & <chr> & <chr> & <dbl> & <dbl> & <dbl> & <dbl> & <dbl> & <dbl> & <dbl> & <dbl> & <chr> & <dbl>\\\\\n\\hline\n\t F3EFE858 & Alex City Work Release prison                                         & Low-security work release   & Alex City  & Coosa     & 01037 & Alabama & -86.00901 & 32.90451 &  188 &   NA &  77 & 0 & 17 & 0 & NA & 0.50000000\\\\\n\t 5B910220 & Alabama Therapeutic Education Facility prison                         & State rehabilitation center & Columbiana & Shelby    & 01117 & Alabama & -86.62407 & 33.18075 &  272 &   NA &  11 & 1 &  2 & 0 & NA & 0.04779412\\\\\n\t 02FB1675 & Bibb Correctional Facility                                            & State prison                & Brent      & Bibb      & 01007 & Alabama & -87.16278 & 32.92075 & 1725 & 1825 & 164 & 3 & 61 & 0 & NA & 0.13043478\\\\\n\t 6378F6C4 & Birmingham Women's Community Based Facility and Community Work Center & State prison                & Birmingham & Jefferson & 01073 & Alabama & -86.80834 & 33.53110 &  192 &   NA &  17 & 0 & 28 & 0 & NA & 0.23437500\\\\\n\t EAABF900 & Bullock Correctional Facility                                         & State prison                & Bessemer   & Bullock   & 01011 & Alabama & -85.67393 & 32.14714 & 1477 & 1577 & 162 & 5 & 80 & 1 & NA & 0.16384563\\\\\n\t D19A2461 & Camden prison                                                         & State prison                & Camden     & Wilcox    & 01131 & Alabama & -87.28786 & 31.98781 &   49 &   NA &   5 & 0 &  3 & 0 & NA & 0.16326531\\\\\n\\end{tabular}\n",
            "text/plain": [
              "  nyt_id  \n",
              "1 F3EFE858\n",
              "2 5B910220\n",
              "3 02FB1675\n",
              "4 6378F6C4\n",
              "5 EAABF900\n",
              "6 D19A2461\n",
              "  facility_name                                                        \n",
              "1 Alex City Work Release prison                                        \n",
              "2 Alabama Therapeutic Education Facility prison                        \n",
              "3 Bibb Correctional Facility                                           \n",
              "4 Birmingham Women's Community Based Facility and Community Work Center\n",
              "5 Bullock Correctional Facility                                        \n",
              "6 Camden prison                                                        \n",
              "  facility_type               facility_city facility_county\n",
              "1 Low-security work release   Alex City     Coosa          \n",
              "2 State rehabilitation center Columbiana    Shelby         \n",
              "3 State prison                Brent         Bibb           \n",
              "4 State prison                Birmingham    Jefferson      \n",
              "5 State prison                Bessemer      Bullock        \n",
              "6 State prison                Camden        Wilcox         \n",
              "  facility_county_fips facility_state facility_lng facility_lat\n",
              "1 01037                Alabama        -86.00901    32.90451    \n",
              "2 01117                Alabama        -86.62407    33.18075    \n",
              "3 01007                Alabama        -87.16278    32.92075    \n",
              "4 01073                Alabama        -86.80834    33.53110    \n",
              "5 01011                Alabama        -85.67393    32.14714    \n",
              "6 01131                Alabama        -87.28786    31.98781    \n",
              "  latest_inmate_population max_inmate_population_2020 total_inmate_cases\n",
              "1  188                       NA                        77               \n",
              "2  272                       NA                        11               \n",
              "3 1725                     1825                       164               \n",
              "4  192                       NA                        17               \n",
              "5 1477                     1577                       162               \n",
              "6   49                       NA                         5               \n",
              "  total_inmate_deaths total_officer_cases total_officer_deaths note\n",
              "1 0                   17                  0                    NA  \n",
              "2 1                    2                  0                    NA  \n",
              "3 3                   61                  0                    NA  \n",
              "4 0                   28                  0                    NA  \n",
              "5 5                   80                  1                    NA  \n",
              "6 0                    3                  0                    NA  \n",
              "  normalized_cases\n",
              "1 0.50000000      \n",
              "2 0.04779412      \n",
              "3 0.13043478      \n",
              "4 0.23437500      \n",
              "5 0.16384563      \n",
              "6 0.16326531      "
            ]
          },
          "metadata": {}
        }
      ],
      "source": [
        "# Load required libraries\n",
        "library(readr)\n",
        "library(dplyr)\n",
        "\n",
        "# Load data\n",
        "facilities <- read_csv(\"/content/facilities.csv\", show_col_types=FALSE)\n",
        "\n",
        "# Data cleaning - drop rows missing inmate population data\n",
        "facilities <- facilities %>%\n",
        "  filter(!is.na(latest_inmate_population))\n",
        "\n",
        "# Create normalized cases metric\n",
        "facilities <- facilities %>%\n",
        "  mutate(normalized_cases = (total_inmate_cases + total_officer_cases) / latest_inmate_population)\n",
        "\n",
        "# View the updated dataset\n",
        "head(facilities)"
      ]
    },
    {
      "cell_type": "markdown",
      "metadata": {
        "id": "9Tx4LvZswtHM"
      },
      "source": [
        "## **Question 1: Are there differences in the normalized number of cases based on the facility type (jail, prison, juvenile detention, etc).**\n",
        "Use a bar chart to show the average normalized number of cases in each facility type."
      ]
    },
    {
      "cell_type": "code",
      "execution_count": null,
      "metadata": {
        "id": "Hn0tOikDwtHN"
      },
      "outputs": [],
      "source": [
        "options(repr.plot.width = 10, repr.plot.height = 6)\n",
        "library(ggplot2)\n",
        "library(dplyr)\n",
        "\n",
        "# Ensure facility_type is a factor for consistent ordering and coloring\n",
        "\n",
        "\n",
        "# Plot\n",
        "\n"
      ]
    },
    {
      "cell_type": "markdown",
      "metadata": {
        "id": "bvrSh9LRwtHQ"
      },
      "source": [
        "### **Question 2: Are there differences in the normalized number of cases across different states?**"
      ]
    },
    {
      "cell_type": "code",
      "execution_count": null,
      "metadata": {
        "id": "OhKija9HwtHR"
      },
      "outputs": [],
      "source": [
        "library(ggplot2)\n",
        "\n",
        "# Set plot size for Colab or Jupyter\n",
        "options(repr.plot.width = 14, repr.plot.height = 6)\n",
        "\n",
        "# Boxplot\n"
      ]
    },
    {
      "cell_type": "markdown",
      "metadata": {
        "id": "AdpiUkMxwtHV"
      },
      "source": [
        "### **Question 3: Is there a relationship between the location of the facility and the normalized number of Covid-19 deaths?**"
      ]
    },
    {
      "cell_type": "code",
      "execution_count": null,
      "metadata": {
        "id": "ZW3US-L4wtHX"
      },
      "outputs": [],
      "source": [
        "library(ggplot2)\n",
        "\n",
        "# Adjust plot size for Google Colab\n",
        "options(repr.plot.width = 10, repr.plot.height = 6)\n",
        "\n",
        "# Scatter plot\n",
        "\n"
      ]
    },
    {
      "cell_type": "markdown",
      "metadata": {
        "id": "rL4DWCsEwtHa"
      },
      "source": [
        "### **Question 4: Is there a relationship between the inmate population and the number of COVID-19 cases in the officers?**"
      ]
    },
    {
      "cell_type": "code",
      "execution_count": null,
      "metadata": {
        "id": "vLk89t_ZwtHb"
      },
      "outputs": [],
      "source": [
        "library(ggplot2)\n",
        "\n",
        "# Set figure size (for Google Colab or Jupyter)\n",
        "options(repr.plot.width = 10, repr.plot.height = 6)\n",
        "\n",
        "# Scatter plot with color by facility_type\n"
      ]
    }
  ],
  "metadata": {
    "kernelspec": {
      "display_name": "R",
      "name": "ir"
    },
    "language_info": {
      "name": "R"
    },
    "colab": {
      "provenance": []
    }
  },
  "nbformat": 4,
  "nbformat_minor": 0
}