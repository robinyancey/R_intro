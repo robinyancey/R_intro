{
  "nbformat": 4,
  "nbformat_minor": 0,
  "metadata": {
    "colab": {
      "provenance": []
    },
    "kernelspec": {
      "name": "python3",
      "display_name": "Python 3"
    },
    "language_info": {
      "name": "python"
    }
  },
  "cells": [
    {
      "cell_type": "markdown",
      "source": [
        "##  Notebook 1: Week 3 - Exercises & Multiple Choice Questions\n",
        "\n",
        "###  **Part One - Coding Exercises (3.0 to 3.8)**\n",
        "\n",
        "```markdown\n",
        "# Week 3 - Coding Exercises\n",
        "This section contains 5 coding tasks that cover the main concepts from 3.0 to 3.8.\n",
        "```"
      ],
      "metadata": {
        "id": "v_zZ_ippb8CP"
      }
    },
    {
      "cell_type": "markdown",
      "source": [
        "# Exercise 1: Calling a Function\n",
        "### Define a function that returns the square of a number and use it to get the square of 8."
      ],
      "metadata": {
        "id": "zMOqzmDRb_gI"
      }
    },
    {
      "cell_type": "code",
      "source": [
        "# code here"
      ],
      "metadata": {
        "id": "_1OyoWqfcAOM"
      },
      "execution_count": null,
      "outputs": []
    },
    {
      "cell_type": "markdown",
      "source": [
        "## Exercise 2: Conditional Logic\n",
        "### Write an R function that takes a number as input and returns \"Positive\", \"Negative\", or \"Zero\"."
      ],
      "metadata": {
        "id": "zmLOOY9acVeL"
      }
    },
    {
      "cell_type": "code",
      "source": [
        "# code here"
      ],
      "metadata": {
        "id": "lqMS1I7scWXI"
      },
      "execution_count": null,
      "outputs": []
    },
    {
      "cell_type": "markdown",
      "source": [
        "## Exercise 3: Looping & Summation\n",
        "### Use a loop to calculate the sum of even numbers between 1 and 20."
      ],
      "metadata": {
        "id": "j4yXlHHeccUl"
      }
    },
    {
      "cell_type": "code",
      "source": [
        "# code here"
      ],
      "metadata": {
        "id": "CEEg0ukgcdHo"
      },
      "execution_count": null,
      "outputs": []
    },
    {
      "cell_type": "markdown",
      "source": [
        "## Exercise 4: Exception Handling\n",
        "### Write a function that safely divides two numbers and returns \"Error\" if division by zero is attempted."
      ],
      "metadata": {
        "id": "soFibEmPcwHU"
      }
    },
    {
      "cell_type": "code",
      "source": [
        "# code here"
      ],
      "metadata": {
        "id": "NUDX3JJicwyC"
      },
      "execution_count": null,
      "outputs": []
    },
    {
      "cell_type": "markdown",
      "source": [
        "## Exercise 5: Least Squares Estimate\n",
        "### Create a function that calculates the mean of a numeric vector."
      ],
      "metadata": {
        "id": "KD40yQ09c7o1"
      }
    },
    {
      "cell_type": "code",
      "source": [
        "# code here"
      ],
      "metadata": {
        "id": "AlY8fGHWc8Sj"
      },
      "execution_count": null,
      "outputs": []
    },
    {
      "cell_type": "markdown",
      "source": [
        "---\n",
        "\n",
        "### Part Two - Multiple Choice & Fill-in-the-Blank Questions\n",
        "\n",
        "\n",
        "# Week 3 - Multiple Choice & Fill-in-the-Blank Questions\n",
        "\n",
        "Please answer the following 10 questions:\n",
        "\n",
        "---"
      ],
      "metadata": {
        "id": "2ZO933lgdMWb"
      }
    },
    {
      "cell_type": "markdown",
      "source": [
        "**Q1.** What does the function `mean()` calculate in R?\n",
        "\n",
        "a) Maximum value  \n",
        "b) Median  \n",
        "c) Average  \n",
        "d) Mode  \n",
        "**Answer:** ___\n",
        "\n",
        "---\n",
        "\n",
        "**Q2.** What will `sqrt(16)` return?\n",
        "\n",
        "a) 2  \n",
        "b) 4  \n",
        "c) 8  \n",
        "d) 256  \n",
        "**Answer:** ___\n",
        "\n",
        "---\n",
        "\n",
        "**Q3.** What does `if (x > 0)` check for?\n",
        "\n",
        "a) x is equal to 0  \n",
        "b) x is negative  \n",
        "c) x is greater than 0  \n",
        "d) x is a string  \n",
        "**Answer:** ___\n",
        "\n",
        "---\n",
        "\n",
        "**Q4.** Fill in the blank:  \n",
        "In R, you use the `for` loop to _______ over a sequence of values.\n",
        "\n",
        "\n",
        "**Answer:** ___\n",
        "\n",
        "---\n",
        "\n",
        "**Q5.** What function is used to handle errors safely in custom functions?\n",
        "\n",
        "a) stop()  \n",
        "b) tryCatch()  \n",
        "c) warn()  \n",
        "d) loop()  \n",
        "**Answer:** ___\n",
        "\n",
        "---\n",
        "\n",
        "**Q6.** Fill in the blank:  \n",
        "The function `abs(x)` returns the _______ value of `x`.\n",
        "\n",
        "**Answer:** ___\n",
        "\n",
        "---\n",
        "\n",
        "**Q7.** What is the primary use of the `function()` keyword in R?\n",
        "\n",
        "a) To loop  \n",
        "b) To print  \n",
        "c) To define a new function  \n",
        "d) To convert data types  \n",
        "**Answer:** ___\n"
      ],
      "metadata": {
        "id": "oHD-cZ5dbAVn"
      }
    }
  ]
}