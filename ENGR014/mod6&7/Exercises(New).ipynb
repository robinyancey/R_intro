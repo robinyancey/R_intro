{
  "nbformat": 4,
  "nbformat_minor": 0,
  "metadata": {
    "colab": {
      "provenance": []
    },
    "kernelspec": {
      "name": "python3",
      "display_name": "Python 3"
    },
    "language_info": {
      "name": "python"
    }
  },
  "cells": [
    {
      "cell_type": "markdown",
      "source": [
        "### Week 1"
      ],
      "metadata": {
        "id": "kvFSNwDovbIJ"
      }
    },
    {
      "cell_type": "markdown",
      "source": [
        "1. Which of the following functions returns the number of elements in a vector in R?\n",
        "\n",
        "- A. sum()\n",
        "- B. length()\n",
        "- C. count()\n",
        "- D. nrow()"
      ],
      "metadata": {
        "id": "KjyFBQMTWeWV"
      }
    },
    {
      "cell_type": "markdown",
      "source": [
        "2. The result of the R expression 5 ^ 2 is ____."
      ],
      "metadata": {
        "id": "pEvAMRM8WpDh"
      }
    },
    {
      "cell_type": "markdown",
      "source": [
        "3.  What will the following R code return?\n",
        "```r\n",
        "x <- c(2, 4, 6)\n",
        "y <- c(1, 3, 5)\n",
        "x + y\n",
        "```\n",
        "\n",
        "- A. c(3, 7, 11)\n",
        "- B. c(2, 4, 6, 1, 3, 5)\n",
        "- C. c(1, 3, 5)\n",
        "- D. c(3, 7, 11, NA)"
      ],
      "metadata": {
        "id": "zPmnty-tXQHv"
      }
    },
    {
      "cell_type": "markdown",
      "source": [
        "### Week 2"
      ],
      "metadata": {
        "id": "l4sgW6Edvffd"
      }
    },
    {
      "cell_type": "markdown",
      "source": [
        "1. What is the output of the following R code?\n",
        "\n",
        "```r\n",
        "matrix(1:6, nrow = 2, byrow = TRUE)\n",
        "```"
      ],
      "metadata": {
        "id": "LRWT7Ryxvh7s"
      }
    },
    {
      "cell_type": "markdown",
      "source": [
        "2. In R, the NA value is used to represent __\\____________ data."
      ],
      "metadata": {
        "id": "-IZ_A6vevi2R"
      }
    },
    {
      "cell_type": "markdown",
      "source": [
        "3. Which function in R is used to generate random numbers from a normal distribution?\n",
        "\n",
        "- A. rbinom()\n",
        "- B. rexp()\n",
        "- C. rnorm()\n",
        "- D. runif()"
      ],
      "metadata": {
        "id": "2Q1I9n9pvjcD"
      }
    },
    {
      "cell_type": "markdown",
      "source": [
        "### Week 3"
      ],
      "metadata": {
        "id": "RgJIxe5iwHqE"
      }
    },
    {
      "cell_type": "markdown",
      "source": [
        "  1. What will be the result of this R function call?\n",
        "\n",
        "  ```r\n",
        "f <- function(x, y = 3) { return(x + y) }\n",
        "f(5)\n",
        "  ```\n",
        "- A. 3\n",
        "- B. 5\n",
        "- C. 8\n",
        "- D. Error"
      ],
      "metadata": {
        "id": "3nYX_f9NwLKz"
      }
    },
    {
      "cell_type": "markdown",
      "source": [
        "2. In R, to measure how long an expression takes to run, we use the function _\\_________?"
      ],
      "metadata": {
        "id": "DVzTTuEWwLzR"
      }
    },
    {
      "cell_type": "markdown",
      "source": [
        "3. Which of the following best describes the purpose of tryCatch() in R?\n",
        "\n",
        "- A. Loops through data\n",
        "- B. Generates random numbers\n",
        "- C. Catches and handles errors during execution\n",
        "- D. Estimates model parameters"
      ],
      "metadata": {
        "id": "dyyhq6ojwMXo"
      }
    },
    {
      "cell_type": "markdown",
      "source": [
        "## Week 4"
      ],
      "metadata": {
        "id": "wn0xc3LPt51N"
      }
    },
    {
      "cell_type": "markdown",
      "source": [
        "1. The R function used to combine two datasets by common columns is __________."
      ],
      "metadata": {
        "id": "XLyMM5YOt_PJ"
      }
    },
    {
      "cell_type": "markdown",
      "source": [
        "2. Which of the following is the correct way to select rows in a data frame where a column age is greater than 25?\n",
        "\n",
        "* A. df[age > 25]\n",
        "* B. df[df$age > 25, ]\n",
        "\n",
        "* C. subset(df, df$age > 25, )\n",
        "* D. Both B and C"
      ],
      "metadata": {
        "id": "lmrhWkrDuFiF"
      }
    },
    {
      "cell_type": "markdown",
      "source": [
        "3. When using merge() to combine two data frames, the argument __________ ensures that only matching rows from both datasets are kept."
      ],
      "metadata": {
        "id": "rjsteVKAuN5Z"
      }
    },
    {
      "cell_type": "markdown",
      "source": [
        "## Week 5\n",
        "\n",
        "\n",
        "### **Exercise 1: Line Plot – Trend of COVID-19 Deaths Over Time**\n",
        "\n",
        "**Task:** Using the [NYT COVID-19 dataset](https://github.com/nytimes/covid-19-data), filter the data for one state (e.g., **Florida**), and calculate **daily new deaths** over time. Create a **line plot** of this trend.\n",
        "\n",
        "**Steps:**\n",
        "\n",
        "* Use `group_by(date)` and `summarise()` to calculate daily totals.\n",
        "* Compute the difference with `mutate(new_deaths = deaths - lag(deaths))`.\n",
        "* Use `ggplot2::geom_line()` to visualize.\n",
        "\n",
        "**Objective:** Identify patterns or surges in daily death reporting.\n",
        "\n",
        "**Bonus:** Annotate the day with the highest spike.\n",
        "\n",
        "---\n",
        "\n",
        "### **Exercise 2: Heatmap – Graduation Rate by Region and Degree Level**\n",
        "\n",
        "**Task:** Use the `Most-Recent-Cohorts-Institution.csv` file and plot a **heatmap** where:\n",
        "\n",
        "* Rows = Degree Level (e.g., Associate, Bachelor, Master)\n",
        "* Columns = US Census Region (e.g., Northeast, South, etc.)\n",
        "* Values = Average Graduation Rate\n",
        "\n",
        "**Hint:** You'll need to:\n",
        "\n",
        "* Filter for non-missing graduation data\n",
        "* Group by region and degree level\n",
        "* Use `geom_tile()` or `ggplot2::geom_raster()` for the heatmap\n",
        "\n",
        "**Goal:** Visualize which regions perform better in higher education outcomes by degree type.\n",
        "\n",
        "# Assessment\n",
        "\n",
        "\n",
        "1. In a boxplot, a point that falls outside 1.5 times the IQR is considered an ________.\n",
        "\n",
        "2. The College Scorecard dataset includes institution-level metrics such as ________, ________, and ________ (any three).\n",
        "\n",
        "3. The facet_wrap() function in ggplot2 helps create ________ charts based on a categorical variable."
      ],
      "metadata": {
        "id": "RC6sCcInTU4j"
      }
    },
    {
      "cell_type": "markdown",
      "source": [
        "## **Week 6/7 QUESTIONS**\n",
        "\n",
        "---\n",
        "\n",
        "### **ANOVA: Conceptual (Open-Ended)**\n",
        "\n",
        "**Q1.**\n",
        "You ran a one-way ANOVA comparing mean blood pressure across four diet groups. The p-value is 0.003.\n",
        "**What does this result mean in the context of your study?**\n",
        "\n",
        "---\n",
        "\n",
        "### **ANOVA: Application (Open-Ended)**\n",
        "\n",
        "**Q2.**\n",
        "You performed a two-way ANOVA testing how **exercise frequency** and **diet type** affect **cholesterol levels**. The interaction term is significant.\n",
        "**How would you interpret this interaction?**\n",
        "\n",
        "---\n",
        "\n",
        "### **PCA: Multiple Choice**\n",
        "\n",
        "**Q3.**\n",
        "Which of the following statements about PCA is **TRUE**?\n",
        "\n",
        "- A. PCA should always be applied before any statistical modeling.\n",
        "- B. The first principal component always represents time or order.\n",
        "- C. PCA converts correlated variables into uncorrelated components.\n",
        "- D. PCA uses p-values to test significance of each component."
      ],
      "metadata": {
        "id": "3NbFVrMQ2DwM"
      }
    }
  ]
}